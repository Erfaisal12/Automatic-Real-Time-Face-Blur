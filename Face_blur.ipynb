{
 "cells": [
  {
   "cell_type": "code",
   "execution_count": 2,
   "id": "6786d17a",
   "metadata": {},
   "outputs": [],
   "source": [
    "import numpy as np\n",
    "import cv2"
   ]
  },
  {
   "cell_type": "code",
   "execution_count": 3,
   "id": "ea161eb9",
   "metadata": {},
   "outputs": [],
   "source": [
    "img=cv2.imread('./Project_5_Automatic_Face_Blur/Project_Automatic_Face_Blur/images/happy_parents.jpg')\n",
    "\n",
    "cv2.imshow('Parents',img)\n",
    "cv2.waitKey()\n",
    "cv2.destroyAllWindows()"
   ]
  },
  {
   "cell_type": "code",
   "execution_count": 4,
   "id": "b661fe6e",
   "metadata": {},
   "outputs": [],
   "source": [
    "# Load the face detection model \n",
    "face_detection_model=cv2.dnn.readNetFromCaffe('./Project_5_Automatic_Face_Blur/Project_Automatic_Face_Blur/model/deploy.prototxt.txt',\n",
    "                                           './Project_5_Automatic_Face_Blur/Project_Automatic_Face_Blur/model/res10_300x300_ssd_iter_140000_fp16.caffemodel')"
   ]
  },
  {
   "cell_type": "code",
   "execution_count": 24,
   "id": "a0cd9295",
   "metadata": {},
   "outputs": [],
   "source": [
    "def face_blur(img):\n",
    "    #blob from image\n",
    "    image=img.copy()\n",
    "\n",
    "    # create a mask\n",
    "    face_mask=np.zeros(image.shape[:2],dtype='uint8')\n",
    "    blob=cv2.dnn.blobFromImage(image,1,(300,300),(104,177,123),swapRB=True)\n",
    "    face_detection_model.setInput(blob)\n",
    "    detections=face_detection_model.forward()\n",
    "\n",
    "    h,w =image.shape[:2]\n",
    "    for i in range(detections.shape[2]):\n",
    "            confidence=detections[0,0,i,2]\n",
    "            if confidence>0.5:\n",
    "                box=detections[0,0,i,3:7]*np.array([w,h,w,h])\n",
    "                box=box.astype(int)\n",
    "                cv2.rectangle(face_mask,(box[0],box[1]),(box[2],box[3]),255,-1)\n",
    "\n",
    "    inverse_face_mask=cv2.bitwise_not(face_mask)   \n",
    "    # apply mask to orginal image\n",
    "\n",
    "    bg_img=cv2.bitwise_and(image,image,mask=face_mask)\n",
    "    fg_img=cv2.bitwise_and(image,image,mask=inverse_face_mask)\n",
    "\n",
    "    #apply blur to image\n",
    "    bg_img_blur=cv2.GaussianBlur(bg_img,(51,51),0)\n",
    "\n",
    "    # addition\n",
    "    face_blur=cv2.add(fg_img,bg_img_blur)\n",
    "    \n",
    "    return face_blur\n",
    "                            "
   ]
  },
  {
   "cell_type": "code",
   "execution_count": 25,
   "id": "b16045a3",
   "metadata": {},
   "outputs": [],
   "source": [
    "face_blur=face_blur(image)\n",
    "\n",
    "cv2.imshow('Orginal image',image)\n",
    "cv2.imshow('face_blur',face_blur)\n",
    "cv2.waitKey()\n",
    "cv2.destroyAllWindows() \n",
    "                     "
   ]
  },
  {
   "cell_type": "markdown",
   "id": "770107af",
   "metadata": {},
   "source": [
    "## Real time face blur"
   ]
  },
  {
   "cell_type": "code",
   "execution_count": 32,
   "id": "6bff1139",
   "metadata": {},
   "outputs": [
    {
     "ename": "TypeError",
     "evalue": "'numpy.ndarray' object is not callable",
     "output_type": "error",
     "traceback": [
      "\u001b[1;31m---------------------------------------------------------------------------\u001b[0m",
      "\u001b[1;31mTypeError\u001b[0m                                 Traceback (most recent call last)",
      "\u001b[1;32m<ipython-input-32-3a609058bba9>\u001b[0m in \u001b[0;36m<module>\u001b[1;34m\u001b[0m\n\u001b[0;32m      7\u001b[0m         \u001b[1;32mbreak\u001b[0m\u001b[1;33m\u001b[0m\u001b[1;33m\u001b[0m\u001b[0m\n\u001b[0;32m      8\u001b[0m \u001b[1;33m\u001b[0m\u001b[0m\n\u001b[1;32m----> 9\u001b[1;33m     \u001b[0mblur_image\u001b[0m\u001b[1;33m=\u001b[0m\u001b[0mface_blur\u001b[0m\u001b[1;33m(\u001b[0m\u001b[0mframe\u001b[0m\u001b[1;33m)\u001b[0m\u001b[1;33m\u001b[0m\u001b[1;33m\u001b[0m\u001b[0m\n\u001b[0m\u001b[0;32m     10\u001b[0m \u001b[1;33m\u001b[0m\u001b[0m\n\u001b[0;32m     11\u001b[0m     \u001b[0mcv2\u001b[0m\u001b[1;33m.\u001b[0m\u001b[0mimshow\u001b[0m\u001b[1;33m(\u001b[0m\u001b[1;34m'Orginal'\u001b[0m\u001b[1;33m,\u001b[0m\u001b[0mframe\u001b[0m\u001b[1;33m)\u001b[0m\u001b[1;33m\u001b[0m\u001b[1;33m\u001b[0m\u001b[0m\n",
      "\u001b[1;31mTypeError\u001b[0m: 'numpy.ndarray' object is not callable"
     ]
    }
   ],
   "source": [
    "cap=cv2.VideoCapture(0)\n",
    "\n",
    "while True:\n",
    "    ret, frame=cap.read()\n",
    "    \n",
    "    if ret == False:\n",
    "        break\n",
    "        \n",
    "    blur_image=face_blur(frame)\n",
    "    \n",
    "    cv2.imshow('Orginal',frame)\n",
    "    cv2.imshow('blur_image',blur_image)\n",
    "    \n",
    "    if cv2.waitKey(1)==27:\n",
    "        break\n",
    "        \n",
    "cap.release()\n",
    "cv2.destroyAllWindows()\n",
    "    "
   ]
  },
  {
   "cell_type": "code",
   "execution_count": null,
   "id": "e6cfcfa7",
   "metadata": {},
   "outputs": [],
   "source": []
  },
  {
   "cell_type": "code",
   "execution_count": null,
   "id": "75a83038",
   "metadata": {},
   "outputs": [],
   "source": []
  },
  {
   "cell_type": "code",
   "execution_count": null,
   "id": "032f2918",
   "metadata": {},
   "outputs": [],
   "source": []
  },
  {
   "cell_type": "code",
   "execution_count": null,
   "id": "17e65ba5",
   "metadata": {},
   "outputs": [],
   "source": []
  },
  {
   "cell_type": "code",
   "execution_count": null,
   "id": "e96bd5d2",
   "metadata": {},
   "outputs": [],
   "source": []
  },
  {
   "cell_type": "code",
   "execution_count": null,
   "id": "054737cd",
   "metadata": {},
   "outputs": [],
   "source": []
  },
  {
   "cell_type": "code",
   "execution_count": null,
   "id": "3808fdef",
   "metadata": {},
   "outputs": [],
   "source": []
  },
  {
   "cell_type": "code",
   "execution_count": null,
   "id": "29680225",
   "metadata": {},
   "outputs": [],
   "source": []
  },
  {
   "cell_type": "code",
   "execution_count": 6,
   "id": "4607b456",
   "metadata": {},
   "outputs": [
    {
     "data": {
      "text/plain": [
       "(1, 1, 200, 7)"
      ]
     },
     "execution_count": 6,
     "metadata": {},
     "output_type": "execute_result"
    }
   ],
   "source": [
    "detections.shape"
   ]
  },
  {
   "cell_type": "code",
   "execution_count": null,
   "id": "ed7f40b1",
   "metadata": {},
   "outputs": [],
   "source": []
  },
  {
   "cell_type": "code",
   "execution_count": null,
   "id": "ec5e0387",
   "metadata": {},
   "outputs": [],
   "source": []
  }
 ],
 "metadata": {
  "kernelspec": {
   "display_name": "Python 3",
   "language": "python",
   "name": "python3"
  },
  "language_info": {
   "codemirror_mode": {
    "name": "ipython",
    "version": 3
   },
   "file_extension": ".py",
   "mimetype": "text/x-python",
   "name": "python",
   "nbconvert_exporter": "python",
   "pygments_lexer": "ipython3",
   "version": "3.8.8"
  }
 },
 "nbformat": 4,
 "nbformat_minor": 5
}
